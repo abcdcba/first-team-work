{
 "metadata": {
  "name": "1"
 }, 
 "nbformat": 2, 
 "worksheets": [
  {
   "cells": [
    {
     "cell_type": "markdown", 
     "source": [
      "constant "
     ]
    }, 
    {
     "cell_type": "markdown", 
     "source": [
      "123456789", 
      "", 
      "", 
      "", 
      ""
     ]
    }, 
    {
     "cell_type": "code", 
     "collapsed": true, 
     "input": [], 
     "language": "python", 
     "outputs": []
    }
   ]
  }
 ]
}